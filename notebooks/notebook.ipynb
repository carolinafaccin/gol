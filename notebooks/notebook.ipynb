{
 "cells": [
  {
   "cell_type": "code",
   "execution_count": 1,
   "id": "b3e62209",
   "metadata": {},
   "outputs": [],
   "source": [
    "import numpy as np\n",
    "import matplotlib.pyplot as plt\n",
    "import matplotlib.colors as mcolors\n",
    "import imageio\n",
    "import scipy.signal\n",
    "import os\n",
    "from tqdm import tqdm\n",
    "from src.growingheart import Game, create_animation"
   ]
  },
  {
   "cell_type": "markdown",
   "id": "96612df8",
   "metadata": {},
   "source": [
    "### 1. \"Growing Heart\" Rules"
   ]
  },
  {
   "cell_type": "code",
   "execution_count": 3,
   "id": "37a40375",
   "metadata": {},
   "outputs": [
    {
     "name": "stdout",
     "output_type": "stream",
     "text": [
      "Generating frames for the animation...\n"
     ]
    },
    {
     "name": "stderr",
     "output_type": "stream",
     "text": [
      "Generating frames: 100%|██████████| 41/41 [00:00<00:00, 97.76it/s] \n"
     ]
    },
    {
     "name": "stdout",
     "output_type": "stream",
     "text": [
      "\n",
      "Animation saved successfully to './figures/gif/tests/growing_heart.gif'!\n",
      "Growing Heart simulation concluded!\n"
     ]
    }
   ],
   "source": [
    "# Set the parameters for the simulation\n",
    "matriz_size = 40\n",
    "total_steps = 41\n",
    "\n",
    "# Define the rules of growth\n",
    "survival_rules = [2, 3, 4, 5]\n",
    "birth_rules = [3]\n",
    "\n",
    "# Set the output path (adjust according to your notebook folder structure)\n",
    "# If you are using Google Colab, it can be just 'growing_heart.gif'\n",
    "output_dir = './figures/gif/tests'\n",
    "os.makedirs(output_dir, exist_ok=True)\n",
    "full_path = os.path.join(output_dir, 'growing_heart.gif')\n",
    "\n",
    "# Start the animation with the defined parameters\n",
    "create_animation(matriz_size, total_steps, full_path, survival_rules, birth_rules)\n",
    "\n",
    "print(\"Growing Heart simulation concluded!\")"
   ]
  },
  {
   "cell_type": "markdown",
   "id": "12b488ac",
   "metadata": {},
   "source": [
    "### 2. Traditional Conway's Game of Life"
   ]
  },
  {
   "cell_type": "code",
   "execution_count": 4,
   "id": "65c4c45c",
   "metadata": {},
   "outputs": [
    {
     "name": "stdout",
     "output_type": "stream",
     "text": [
      "Generating frames for the animation...\n"
     ]
    },
    {
     "name": "stderr",
     "output_type": "stream",
     "text": [
      "Generating frames: 100%|██████████| 100/100 [00:00<00:00, 104.05it/s]\n"
     ]
    },
    {
     "name": "stdout",
     "output_type": "stream",
     "text": [
      "\n",
      "Animation saved successfully to './figures/gif/tests/conway_standard.gif'!\n",
      "Traditional rules simulation concluded!\n"
     ]
    }
   ],
   "source": [
    "# Set the parameters for the standard simulation\n",
    "matriz_size = 40\n",
    "total_steps = 100\n",
    "\n",
    "# Define the default rules of the Game of Life (B3/S23)\n",
    "standard_survival_rules = [2, 3]\n",
    "standard_birth_rules = [3]\n",
    "\n",
    "# Define a new output path\n",
    "full_path_standard = os.path.join(output_dir, 'conway_standard.gif')\n",
    "\n",
    "# Start the animation with the default rules\n",
    "create_animation(matriz_size, total_steps, full_path_standard, standard_survival_rules, standard_birth_rules)\n",
    "\n",
    "print(\"Traditional rules simulation concluded!\")"
   ]
  }
 ],
 "metadata": {
  "kernelspec": {
   "display_name": "venv",
   "language": "python",
   "name": "python3"
  },
  "language_info": {
   "codemirror_mode": {
    "name": "ipython",
    "version": 3
   },
   "file_extension": ".py",
   "mimetype": "text/x-python",
   "name": "python",
   "nbconvert_exporter": "python",
   "pygments_lexer": "ipython3",
   "version": "3.13.3"
  }
 },
 "nbformat": 4,
 "nbformat_minor": 5
}
