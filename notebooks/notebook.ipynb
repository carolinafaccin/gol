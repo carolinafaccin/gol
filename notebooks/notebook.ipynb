{
 "cells": [
  {
   "cell_type": "code",
   "execution_count": 1,
   "id": "b3e62209",
   "metadata": {},
   "outputs": [],
   "source": [
    "import numpy as np\n",
    "import os\n",
    "from src.gol import Game, Renderer, create_gif"
   ]
  },
  {
   "cell_type": "code",
   "execution_count": 3,
   "id": "92f09e7f",
   "metadata": {},
   "outputs": [],
   "source": [
    "# --- Global Simulation Parameters ---\n",
    "# Define the standard rules for Conway's Game of Life (B3/S23)\n",
    "STANDARD_SURVIVAL_RULES = [2, 3]\n",
    "STANDARD_BIRTH_RULES = [3]\n",
    "\n",
    "# Define the colors for visualization\n",
    "CELL_COLORS = [\"#2b2b2b\", \"#f77877\"]  # Background/Dead, Alive\n",
    "\n",
    "# Set the output directory for the GIFs\n",
    "output_dir = './figures/gif/notebook_tests'\n",
    "os.makedirs(output_dir, exist_ok=True)"
   ]
  },
  {
   "cell_type": "markdown",
   "id": "f36bdd87",
   "metadata": {},
   "source": [
    "### 1. The Gosper Glider Gun\n",
    "\n",
    "The Gosper Glider Gun is a pattern that generates a continuous stream of \"gliders\".\n",
    "It is the most famous example of a \"gun\" in the Game of Life.\n",
    "Dimensions: 37x11 cells."
   ]
  },
  {
   "cell_type": "code",
   "execution_count": null,
   "id": "08031a2f",
   "metadata": {},
   "outputs": [],
   "source": [
    "# Define the Gosper Glider Gun pattern\n",
    "gun_pattern = np.array([\n",
    "    [0, 0, 0, 0, 0, 0, 0, 0, 0, 0, 0, 0, 0, 0, 0, 0, 0, 0, 0, 0, 0, 0, 0, 0, 1, 0, 0, 0, 0, 0, 0, 0, 0, 0, 0, 0, 0],\n",
    "    [0, 0, 0, 0, 0, 0, 0, 0, 0, 0, 0, 0, 0, 0, 0, 0, 0, 0, 0, 0, 0, 0, 1, 0, 1, 0, 0, 0, 0, 0, 0, 0, 0, 0, 0, 0, 0],\n",
    "    [0, 0, 0, 0, 0, 0, 0, 0, 0, 0, 0, 0, 1, 1, 0, 0, 0, 0, 0, 0, 1, 1, 0, 0, 0, 0, 0, 0, 0, 0, 0, 0, 0, 0, 1, 1, 0],\n",
    "    [0, 0, 0, 0, 0, 0, 0, 0, 0, 0, 0, 1, 0, 0, 0, 1, 0, 0, 0, 0, 1, 1, 0, 0, 0, 0, 0, 0, 0, 0, 0, 0, 0, 0, 1, 1, 0],\n",
    "    [1, 1, 0, 0, 0, 0, 0, 0, 0, 0, 1, 0, 0, 0, 0, 0, 1, 0, 0, 0, 1, 1, 0, 0, 0, 0, 0, 0, 0, 0, 0, 0, 0, 0, 0, 0, 0],\n",
    "    [1, 1, 0, 0, 0, 0, 0, 0, 0, 0, 1, 0, 0, 0, 1, 0, 1, 1, 0, 0, 0, 0, 1, 0, 1, 0, 0, 0, 0, 0, 0, 0, 0, 0, 0, 0, 0],\n",
    "    [0, 0, 0, 0, 0, 0, 0, 0, 0, 0, 1, 0, 0, 0, 0, 0, 1, 0, 0, 0, 0, 0, 0, 0, 1, 0, 0, 0, 0, 0, 0, 0, 0, 0, 0, 0, 0],\n",
    "    [0, 0, 0, 0, 0, 0, 0, 0, 0, 0, 0, 1, 0, 0, 0, 1, 0, 0, 0, 0, 0, 0, 0, 0, 0, 0, 0, 0, 0, 0, 0, 0, 0, 0, 0, 0, 0],\n",
    "    [0, 0, 0, 0, 0, 0, 0, 0, 0, 0, 0, 0, 1, 1, 0, 0, 0, 0, 0, 0, 0, 0, 0, 0, 0, 0, 0, 0, 0, 0, 0, 0, 0, 0, 0, 0, 0],\n",
    "], dtype=int)\n",
    "\n",
    "# Set grid size and simulation steps\n",
    "matrix_size = 80\n",
    "total_steps = 250\n",
    "\n",
    "# Create instances and run the simulation\n",
    "game_gun = Game(matrix_size, matrix_size, STANDARD_SURVIVAL_RULES, STANDARD_BIRTH_RULES, initial_pattern=gun_pattern)\n",
    "renderer = Renderer(CELL_COLORS)\n",
    "full_path_gun = os.path.join(output_dir, 'gosper_glider_gun.gif')\n",
    "create_gif(game_gun, renderer, total_steps, full_path_gun)\n",
    "print(\"Gosper Glider Gun simulation concluded!\")"
   ]
  },
  {
   "cell_type": "markdown",
   "id": "154d823a",
   "metadata": {},
   "source": [
    "### 2. The Pulsar\n",
    "\n",
    "The Pulsar is a famous pattern that is a simple oscillator with a period of 3.\n",
    "It is a common introductory example of an oscillator.\n",
    "Dimensions: 15x15 cells."
   ]
  },
  {
   "cell_type": "code",
   "execution_count": null,
   "id": "6aa4494d",
   "metadata": {},
   "outputs": [],
   "source": [
    "# Define the Pulsar pattern\n",
    "pulsar_pattern = np.array([\n",
    "    [0, 0, 0, 0, 0, 0, 0, 0, 0, 0, 0, 0, 0, 0, 0],\n",
    "    [0, 0, 0, 1, 1, 1, 0, 0, 0, 1, 1, 1, 0, 0, 0],\n",
    "    [0, 0, 0, 0, 0, 0, 0, 0, 0, 0, 0, 0, 0, 0, 0],\n",
    "    [0, 1, 0, 0, 0, 0, 1, 0, 1, 0, 0, 0, 0, 1, 0],\n",
    "    [0, 1, 0, 0, 0, 0, 1, 0, 1, 0, 0, 0, 0, 1, 0],\n",
    "    [0, 1, 0, 0, 0, 0, 1, 0, 1, 0, 0, 0, 0, 1, 0],\n",
    "    [0, 0, 0, 1, 1, 1, 0, 0, 0, 1, 1, 1, 0, 0, 0],\n",
    "    [0, 0, 0, 0, 0, 0, 0, 0, 0, 0, 0, 0, 0, 0, 0],\n",
    "    [0, 0, 0, 1, 1, 1, 0, 0, 0, 1, 1, 1, 0, 0, 0],\n",
    "    [0, 1, 0, 0, 0, 0, 1, 0, 1, 0, 0, 0, 0, 1, 0],\n",
    "    [0, 1, 0, 0, 0, 0, 1, 0, 1, 0, 0, 0, 0, 1, 0],\n",
    "    [0, 1, 0, 0, 0, 0, 1, 0, 1, 0, 0, 0, 0, 1, 0],\n",
    "    [0, 0, 0, 0, 0, 0, 0, 0, 0, 0, 0, 0, 0, 0, 0],\n",
    "    [0, 0, 0, 1, 1, 1, 0, 0, 0, 1, 1, 1, 0, 0, 0],\n",
    "    [0, 0, 0, 0, 0, 0, 0, 0, 0, 0, 0, 0, 0, 0, 0],\n",
    "], dtype=int)\n",
    "\n",
    "# Set grid size and simulation steps\n",
    "matrix_size = 40\n",
    "total_steps = 40\n",
    "\n",
    "# Create instances and run the simulation\n",
    "game_pulsar = Game(matrix_size, matrix_size, STANDARD_SURVIVAL_RULES, STANDARD_BIRTH_RULES, initial_pattern=pulsar_pattern)\n",
    "renderer = Renderer(CELL_COLORS)\n",
    "full_path_pulsar = os.path.join(output_dir, 'pulsar.gif')\n",
    "create_gif(game_pulsar, renderer, total_steps, full_path_pulsar)\n",
    "print(\"Pulsar simulation concluded!\")"
   ]
  },
  {
   "cell_type": "markdown",
   "id": "ec494600",
   "metadata": {},
   "source": [
    "### 3. The Pentadecathlon\n",
    "\n",
    "The Pentadecathlon is an oscillator with a long period of 15.\n",
    "Its behavior includes a central bar that oscillates and two \"tails\" that shift.\n",
    "Dimensions: 17x11 cells."
   ]
  },
  {
   "cell_type": "code",
   "execution_count": null,
   "id": "eaa5b123",
   "metadata": {},
   "outputs": [],
   "source": [
    "# Define the Pentadecathlon pattern\n",
    "pentadecathlon_pattern = np.array([\n",
    "    [0, 0, 0, 0, 0, 0, 0, 0, 0, 0, 0],\n",
    "    [0, 0, 0, 0, 0, 0, 0, 0, 0, 0, 0],\n",
    "    [0, 0, 0, 0, 0, 1, 0, 0, 0, 0, 0],\n",
    "    [0, 0, 0, 0, 1, 1, 1, 0, 0, 0, 0],\n",
    "    [0, 0, 0, 0, 0, 1, 0, 0, 0, 0, 0],\n",
    "    [0, 0, 0, 0, 0, 1, 0, 0, 0, 0, 0],\n",
    "    [0, 0, 0, 0, 0, 1, 0, 0, 0, 0, 0],\n",
    "    [0, 0, 0, 0, 0, 1, 0, 0, 0, 0, 0],\n",
    "    [0, 0, 0, 0, 0, 1, 0, 0, 0, 0, 0],\n",
    "    [0, 0, 0, 0, 1, 1, 1, 0, 0, 0, 0],\n",
    "    [0, 0, 0, 0, 0, 1, 0, 0, 0, 0, 0],\n",
    "    [0, 0, 0, 0, 0, 0, 0, 0, 0, 0, 0],\n",
    "    [0, 0, 0, 0, 0, 0, 0, 0, 0, 0, 0],\n",
    "], dtype=int)\n",
    "\n",
    "# Set grid size and simulation steps\n",
    "matrix_size = 40\n",
    "total_steps = 60\n",
    "\n",
    "# Create instances and run the simulation\n",
    "game_penta = Game(matrix_size, matrix_size, STANDARD_SURVIVAL_RULES, STANDARD_BIRTH_RULES, initial_pattern=pentadecathlon_pattern)\n",
    "renderer = Renderer(CELL_COLORS)\n",
    "full_path_penta = os.path.join(output_dir, 'pentadecathlon.gif')\n",
    "create_gif(game_penta, renderer, total_steps, full_path_penta)\n",
    "print(\"Pentadecathlon simulation concluded!\")"
   ]
  },
  {
   "cell_type": "markdown",
   "id": "96612df8",
   "metadata": {},
   "source": [
    "### 4. The Growing Heart Pattern\n",
    "\n",
    "This pattern uses custom rules to ensure continuous growth instead of stable oscillation.\n",
    "The rules are more generous, allowing cells to survive with more neighbors."
   ]
  },
  {
   "cell_type": "code",
   "execution_count": null,
   "id": "37a40375",
   "metadata": {},
   "outputs": [
    {
     "name": "stdout",
     "output_type": "stream",
     "text": [
      "Generating frames for the animation...\n"
     ]
    },
    {
     "name": "stderr",
     "output_type": "stream",
     "text": [
      "Generating frames: 100%|██████████| 41/41 [00:00<00:00, 97.76it/s] \n"
     ]
    },
    {
     "name": "stdout",
     "output_type": "stream",
     "text": [
      "\n",
      "Animation saved successfully to './figures/gif/tests/growing_heart.gif'!\n",
      "Growing Heart simulation concluded!\n"
     ]
    }
   ],
   "source": [
    "# Define the Growing Heart Pattern\n",
    "heart_pattern = np.array([\n",
    "    [0, 1, 1, 0, 1, 1, 0],\n",
    "    [1, 1, 1, 1, 1, 1, 1],\n",
    "    [1, 1, 1, 1, 1, 1, 1],\n",
    "    [0, 1, 1, 1, 1, 1, 0],\n",
    "    [0, 0, 1, 1, 1, 0, 0],\n",
    "    [0, 0, 0, 1, 0, 0, 0]\n",
    "], dtype=int)\n",
    "\n",
    "# Define the custom growth rules (B3/S2345)\n",
    "growth_survival_rules = [2, 3, 4, 5]\n",
    "growth_birth_rules = [3]\n",
    "\n",
    "# Set grid size and simulation steps\n",
    "matrix_size = 40\n",
    "total_steps = 41\n",
    "\n",
    "# Create instances and run the simulation with custom rules\n",
    "game_heart = Game(matrix_size, matrix_size, growth_survival_rules, growth_birth_rules, initial_pattern=heart_pattern)\n",
    "renderer = Renderer(CELL_COLORS)\n",
    "full_path_heart = os.path.join(output_dir, 'growing_heart.gif')\n",
    "create_gif(game_heart, renderer, total_steps, full_path_heart)\n",
    "print(\"Growing Heart simulation concluded!\")"
   ]
  },
  {
   "cell_type": "markdown",
   "id": "12b488ac",
   "metadata": {},
   "source": [
    "### 2. Traditional Conway's Game of Life"
   ]
  },
  {
   "cell_type": "code",
   "execution_count": 4,
   "id": "65c4c45c",
   "metadata": {},
   "outputs": [
    {
     "name": "stdout",
     "output_type": "stream",
     "text": [
      "Generating frames for the animation...\n"
     ]
    },
    {
     "name": "stderr",
     "output_type": "stream",
     "text": [
      "Generating frames: 100%|██████████| 100/100 [00:00<00:00, 104.05it/s]\n"
     ]
    },
    {
     "name": "stdout",
     "output_type": "stream",
     "text": [
      "\n",
      "Animation saved successfully to './figures/gif/tests/conway_standard.gif'!\n",
      "Traditional rules simulation concluded!\n"
     ]
    }
   ],
   "source": [
    "# Set the parameters for the standard simulation\n",
    "matriz_size = 40\n",
    "total_steps = 100\n",
    "\n",
    "# Define the default rules of the Game of Life (B3/S23)\n",
    "standard_survival_rules = [2, 3]\n",
    "standard_birth_rules = [3]\n",
    "\n",
    "# Define a new output path\n",
    "full_path_standard = os.path.join(output_dir, 'conway_standard.gif')\n",
    "\n",
    "# Start the animation with the default rules\n",
    "create_animation(matriz_size, total_steps, full_path_standard, standard_survival_rules, standard_birth_rules)\n",
    "\n",
    "print(\"Traditional rules simulation concluded!\")"
   ]
  }
 ],
 "metadata": {
  "kernelspec": {
   "display_name": "venv",
   "language": "python",
   "name": "python3"
  },
  "language_info": {
   "codemirror_mode": {
    "name": "ipython",
    "version": 3
   },
   "file_extension": ".py",
   "mimetype": "text/x-python",
   "name": "python",
   "nbconvert_exporter": "python",
   "pygments_lexer": "ipython3",
   "version": "3.13.3"
  }
 },
 "nbformat": 4,
 "nbformat_minor": 5
}
