{
 "cells": [
  {
   "cell_type": "code",
   "execution_count": 56,
   "id": "b3e62209",
   "metadata": {},
   "outputs": [],
   "source": [
    "import numpy as np\n",
    "import os\n",
    "from src.gol import Game, Renderer, create_gif"
   ]
  },
  {
   "cell_type": "code",
   "execution_count": 57,
   "id": "92f09e7f",
   "metadata": {},
   "outputs": [],
   "source": [
    "# --- Global Simulation Parameters ---\n",
    "# Define the standard rules for Conway's Game of Life (B3/S23)\n",
    "STANDARD_SURVIVAL_RULES = [2, 3]\n",
    "STANDARD_BIRTH_RULES = [3]\n",
    "\n",
    "# Define the colors for visualization\n",
    "CELL_COLORS = [\"white\", \"#f77877\"]  # Background/Dead, Alive\n",
    "\n",
    "# Set the output directory for the GIFs\n",
    "output_dir = './figures/gif/notebook_gifs'\n",
    "os.makedirs(output_dir, exist_ok=True)"
   ]
  },
  {
   "cell_type": "markdown",
   "id": "12b488ac",
   "metadata": {},
   "source": [
    "### 1. Traditional Conway's Game of Life (Randomized)\n",
    "\n",
    "This is a classic simulation of Conway's Game of Life with a randomized starting grid.\n",
    "It demonstrates how complex, self-organizing patterns can emerge from simple rules.\n",
    "The simulation uses the standard rules: Birth (B3) and Survival (S23)."
   ]
  },
  {
   "cell_type": "code",
   "execution_count": 58,
   "id": "65c4c45c",
   "metadata": {},
   "outputs": [
    {
     "name": "stdout",
     "output_type": "stream",
     "text": [
      "Generating frames for the animation...\n"
     ]
    },
    {
     "name": "stderr",
     "output_type": "stream",
     "text": [
      "Generating GIF frames: 100%|██████████| 200/200 [00:02<00:00, 85.09it/s]\n"
     ]
    },
    {
     "name": "stdout",
     "output_type": "stream",
     "text": [
      "\n",
      "Animation saved successfully to './figures/gif/notebook_gifs/1_conway_random.gif'!\n",
      "Traditional Conway's Game of Life (Randomized) simulation concluded!\n"
     ]
    }
   ],
   "source": [
    "# 5. Traditional Conway's Game of Life (Randomized)\n",
    "\n",
    "# Set grid size and simulation steps\n",
    "matrix_size = 80\n",
    "total_steps = 200\n",
    "\n",
    "# Define the standard rules for Conway's Game of Life (B3/S23)\n",
    "standard_survival_rules = [2, 3]\n",
    "standard_birth_rules = [3]\n",
    "\n",
    "# Create a randomized pattern for the initial state\n",
    "random_pattern = np.random.randint(0, 2, (matrix_size, matrix_size), dtype=int)\n",
    "\n",
    "# Create instances and run the simulation.\n",
    "# We pass the generated 'random_pattern' to the 'initial_pattern' argument.\n",
    "game_random = Game(matrix_size, matrix_size, standard_survival_rules, standard_birth_rules, initial_pattern=random_pattern)\n",
    "renderer = Renderer(CELL_COLORS)\n",
    "full_path_random = os.path.join(output_dir, '1_conway_random.gif')\n",
    "create_gif(game_random, renderer, total_steps, full_path_random)\n",
    "print(\"Traditional Conway's Game of Life (Randomized) simulation concluded!\")"
   ]
  },
  {
   "cell_type": "markdown",
   "id": "96612df8",
   "metadata": {},
   "source": [
    "### 2. The Growing Heart Pattern\n",
    "\n",
    "This pattern uses custom rules to ensure continuous growth instead of stable oscillation.\n",
    "The rules are more generous, allowing cells to survive with more neighbors."
   ]
  },
  {
   "cell_type": "code",
   "execution_count": 59,
   "id": "37a40375",
   "metadata": {},
   "outputs": [
    {
     "name": "stdout",
     "output_type": "stream",
     "text": [
      "Generating frames for the animation...\n"
     ]
    },
    {
     "name": "stderr",
     "output_type": "stream",
     "text": [
      "Generating GIF frames: 100%|██████████| 41/41 [00:00<00:00, 97.61it/s]\n"
     ]
    },
    {
     "name": "stdout",
     "output_type": "stream",
     "text": [
      "\n",
      "Animation saved successfully to './figures/gif/notebook_gifs/2_growing_heart.gif'!\n",
      "Growing Heart simulation concluded!\n"
     ]
    }
   ],
   "source": [
    "# Define the Growing Heart Pattern\n",
    "heart_pattern = np.array([\n",
    "    [0, 1, 1, 0, 1, 1, 0],\n",
    "    [1, 1, 1, 1, 1, 1, 1],\n",
    "    [1, 1, 1, 1, 1, 1, 1],\n",
    "    [0, 1, 1, 1, 1, 1, 0],\n",
    "    [0, 0, 1, 1, 1, 0, 0],\n",
    "    [0, 0, 0, 1, 0, 0, 0]\n",
    "], dtype=int)\n",
    "\n",
    "# Define the custom growth rules (B3/S2345)\n",
    "growth_survival_rules = [2, 3, 4, 5]\n",
    "growth_birth_rules = [3]\n",
    "\n",
    "# Set grid size and simulation steps\n",
    "matrix_size = 40\n",
    "total_steps = 41\n",
    "\n",
    "# Create instances and run the simulation with custom rules\n",
    "game_heart = Game(matrix_size, matrix_size, growth_survival_rules, growth_birth_rules, initial_pattern=heart_pattern)\n",
    "renderer = Renderer(CELL_COLORS)\n",
    "full_path_heart = os.path.join(output_dir, '2_growing_heart.gif')\n",
    "create_gif(game_heart, renderer, total_steps, full_path_heart)\n",
    "print(\"Growing Heart simulation concluded!\")"
   ]
  },
  {
   "cell_type": "markdown",
   "id": "f36bdd87",
   "metadata": {},
   "source": [
    "### 3. The Gosper Glider Gun\n",
    "\n",
    "The Gosper Glider Gun is a pattern that generates a continuous stream of \"gliders\".\n",
    "It is the most famous example of a \"gun\" in the Game of Life.\n",
    "Dimensions: 37x11 cells."
   ]
  },
  {
   "cell_type": "code",
   "execution_count": 60,
   "id": "08031a2f",
   "metadata": {},
   "outputs": [
    {
     "name": "stdout",
     "output_type": "stream",
     "text": [
      "Generating frames for the animation...\n"
     ]
    },
    {
     "name": "stderr",
     "output_type": "stream",
     "text": [
      "Generating GIF frames: 100%|██████████| 250/250 [00:03<00:00, 80.64it/s]\n"
     ]
    },
    {
     "name": "stdout",
     "output_type": "stream",
     "text": [
      "\n",
      "Animation saved successfully to './figures/gif/notebook_gifs/3_gosper_glider_gun.gif'!\n",
      "Gosper Glider Gun simulation concluded!\n"
     ]
    }
   ],
   "source": [
    "# Define the Gosper Glider Gun pattern\n",
    "gun_pattern = np.array([\n",
    "    [0, 0, 0, 0, 0, 0, 0, 0, 0, 0, 0, 0, 0, 0, 0, 0, 0, 0, 0, 0, 0, 0, 0, 0, 1, 0, 0, 0, 0, 0, 0, 0, 0, 0, 0, 0, 0],\n",
    "    [0, 0, 0, 0, 0, 0, 0, 0, 0, 0, 0, 0, 0, 0, 0, 0, 0, 0, 0, 0, 0, 0, 1, 0, 1, 0, 0, 0, 0, 0, 0, 0, 0, 0, 0, 0, 0],\n",
    "    [0, 0, 0, 0, 0, 0, 0, 0, 0, 0, 0, 0, 1, 1, 0, 0, 0, 0, 0, 0, 1, 1, 0, 0, 0, 0, 0, 0, 0, 0, 0, 0, 0, 0, 1, 1, 0],\n",
    "    [0, 0, 0, 0, 0, 0, 0, 0, 0, 0, 0, 1, 0, 0, 0, 1, 0, 0, 0, 0, 1, 1, 0, 0, 0, 0, 0, 0, 0, 0, 0, 0, 0, 0, 1, 1, 0],\n",
    "    [1, 1, 0, 0, 0, 0, 0, 0, 0, 0, 1, 0, 0, 0, 0, 0, 1, 0, 0, 0, 1, 1, 0, 0, 0, 0, 0, 0, 0, 0, 0, 0, 0, 0, 0, 0, 0],\n",
    "    [1, 1, 0, 0, 0, 0, 0, 0, 0, 0, 1, 0, 0, 0, 1, 0, 1, 1, 0, 0, 0, 0, 1, 0, 1, 0, 0, 0, 0, 0, 0, 0, 0, 0, 0, 0, 0],\n",
    "    [0, 0, 0, 0, 0, 0, 0, 0, 0, 0, 1, 0, 0, 0, 0, 0, 1, 0, 0, 0, 0, 0, 0, 0, 1, 0, 0, 0, 0, 0, 0, 0, 0, 0, 0, 0, 0],\n",
    "    [0, 0, 0, 0, 0, 0, 0, 0, 0, 0, 0, 1, 0, 0, 0, 1, 0, 0, 0, 0, 0, 0, 0, 0, 0, 0, 0, 0, 0, 0, 0, 0, 0, 0, 0, 0, 0],\n",
    "    [0, 0, 0, 0, 0, 0, 0, 0, 0, 0, 0, 0, 1, 1, 0, 0, 0, 0, 0, 0, 0, 0, 0, 0, 0, 0, 0, 0, 0, 0, 0, 0, 0, 0, 0, 0, 0],\n",
    "], dtype=int)\n",
    "\n",
    "# Set grid size and simulation steps\n",
    "matrix_size = 80\n",
    "total_steps = 250\n",
    "\n",
    "# Create instances and run the simulation\n",
    "game_gun = Game(matrix_size, matrix_size, STANDARD_SURVIVAL_RULES, STANDARD_BIRTH_RULES, initial_pattern=gun_pattern)\n",
    "renderer = Renderer(CELL_COLORS)\n",
    "full_path_gun = os.path.join(output_dir, '3_gosper_glider_gun.gif')\n",
    "create_gif(game_gun, renderer, total_steps, full_path_gun)\n",
    "print(\"Gosper Glider Gun simulation concluded!\")"
   ]
  },
  {
   "cell_type": "markdown",
   "id": "fd141dd8",
   "metadata": {},
   "source": [
    "### 4. The Pulsar\n",
    "\n",
    "The Pulsar is a famous pattern that is a simple oscillator with a period of 3.\n",
    "It is a common introductory example of an oscillator.\n",
    "Dimensions: 15x15 cells."
   ]
  },
  {
   "cell_type": "code",
   "execution_count": 61,
   "id": "c4d22c13",
   "metadata": {},
   "outputs": [
    {
     "name": "stdout",
     "output_type": "stream",
     "text": [
      "Generating frames for the animation...\n"
     ]
    },
    {
     "name": "stderr",
     "output_type": "stream",
     "text": [
      "Generating GIF frames: 100%|██████████| 40/40 [00:00<00:00, 101.51it/s]\n"
     ]
    },
    {
     "name": "stdout",
     "output_type": "stream",
     "text": [
      "\n",
      "Animation saved successfully to './figures/gif/notebook_gifs/4_pulsar.gif'!\n",
      "Pulsar simulation concluded!\n"
     ]
    }
   ],
   "source": [
    "# Define the Pulsar pattern\n",
    "pulsar_pattern = np.array([\n",
    "    [0, 0, 0, 0, 0, 0, 0, 0, 0, 0, 0, 0, 0, 0, 0],\n",
    "    [0, 0, 0, 1, 1, 1, 0, 0, 0, 1, 1, 1, 0, 0, 0],\n",
    "    [0, 0, 0, 0, 0, 0, 0, 0, 0, 0, 0, 0, 0, 0, 0],\n",
    "    [0, 1, 0, 0, 0, 0, 1, 0, 1, 0, 0, 0, 0, 1, 0],\n",
    "    [0, 1, 0, 0, 0, 0, 1, 0, 1, 0, 0, 0, 0, 1, 0],\n",
    "    [0, 1, 0, 0, 0, 0, 1, 0, 1, 0, 0, 0, 0, 1, 0],\n",
    "    [0, 0, 0, 1, 1, 1, 0, 0, 0, 1, 1, 1, 0, 0, 0],\n",
    "    [0, 0, 0, 0, 0, 0, 0, 0, 0, 0, 0, 0, 0, 0, 0],\n",
    "    [0, 0, 0, 1, 1, 1, 0, 0, 0, 1, 1, 1, 0, 0, 0],\n",
    "    [0, 1, 0, 0, 0, 0, 1, 0, 1, 0, 0, 0, 0, 1, 0],\n",
    "    [0, 1, 0, 0, 0, 0, 1, 0, 1, 0, 0, 0, 0, 1, 0],\n",
    "    [0, 1, 0, 0, 0, 0, 1, 0, 1, 0, 0, 0, 0, 1, 0],\n",
    "    [0, 0, 0, 0, 0, 0, 0, 0, 0, 0, 0, 0, 0, 0, 0],\n",
    "    [0, 0, 0, 1, 1, 1, 0, 0, 0, 1, 1, 1, 0, 0, 0],\n",
    "    [0, 0, 0, 0, 0, 0, 0, 0, 0, 0, 0, 0, 0, 0, 0],\n",
    "], dtype=int)\n",
    "\n",
    "# Set grid size and simulation steps\n",
    "matrix_size = 40\n",
    "total_steps = 40\n",
    "\n",
    "# Create instances and run the simulation\n",
    "game_pulsar = Game(matrix_size, matrix_size, STANDARD_SURVIVAL_RULES, STANDARD_BIRTH_RULES, initial_pattern=pulsar_pattern)\n",
    "renderer = Renderer(CELL_COLORS)\n",
    "full_path_pulsar = os.path.join(output_dir, '4_pulsar.gif')\n",
    "create_gif(game_pulsar, renderer, total_steps, full_path_pulsar)\n",
    "print(\"Pulsar simulation concluded!\")"
   ]
  },
  {
   "cell_type": "markdown",
   "id": "619d9cac",
   "metadata": {},
   "source": [
    "### 5. The Pentadecathlon\n",
    "\n",
    "The Pentadecathlon is an oscillator with a long period of 15.\n",
    "Its behavior includes a central bar that oscillates and two \"tails\" that shift.\n",
    "Dimensions: 17x11 cells."
   ]
  },
  {
   "cell_type": "code",
   "execution_count": 62,
   "id": "bc46bdf2",
   "metadata": {},
   "outputs": [
    {
     "name": "stdout",
     "output_type": "stream",
     "text": [
      "Generating frames for the animation...\n"
     ]
    },
    {
     "name": "stderr",
     "output_type": "stream",
     "text": [
      "Generating GIF frames: 100%|██████████| 60/60 [00:00<00:00, 71.82it/s]\n"
     ]
    },
    {
     "name": "stdout",
     "output_type": "stream",
     "text": [
      "\n",
      "Animation saved successfully to './figures/gif/notebook_gifs/5_pentadecathlon.gif'!\n",
      "Pentadecathlon simulation concluded!\n"
     ]
    }
   ],
   "source": [
    "# Define the Pentadecathlon pattern\n",
    "pentadecathlon_pattern = np.array([\n",
    "    [0, 0, 0, 0, 0, 0, 0, 0, 0, 0, 0],\n",
    "    [0, 0, 0, 0, 0, 0, 0, 0, 0, 0, 0],\n",
    "    [0, 0, 0, 0, 0, 1, 0, 0, 0, 0, 0],\n",
    "    [0, 0, 0, 0, 1, 1, 1, 0, 0, 0, 0],\n",
    "    [0, 0, 0, 0, 0, 1, 0, 0, 0, 0, 0],\n",
    "    [0, 0, 0, 0, 0, 1, 0, 0, 0, 0, 0],\n",
    "    [0, 0, 0, 0, 0, 1, 0, 0, 0, 0, 0],\n",
    "    [0, 0, 0, 0, 0, 1, 0, 0, 0, 0, 0],\n",
    "    [0, 0, 0, 0, 0, 1, 0, 0, 0, 0, 0],\n",
    "    [0, 0, 0, 0, 1, 1, 1, 0, 0, 0, 0],\n",
    "    [0, 0, 0, 0, 0, 1, 0, 0, 0, 0, 0],\n",
    "    [0, 0, 0, 0, 0, 0, 0, 0, 0, 0, 0],\n",
    "    [0, 0, 0, 0, 0, 0, 0, 0, 0, 0, 0],\n",
    "], dtype=int)\n",
    "\n",
    "# Set grid size and simulation steps\n",
    "matrix_size = 40\n",
    "total_steps = 60\n",
    "\n",
    "# Create instances and run the simulation\n",
    "game_penta = Game(matrix_size, matrix_size, STANDARD_SURVIVAL_RULES, STANDARD_BIRTH_RULES, initial_pattern=pentadecathlon_pattern)\n",
    "renderer = Renderer(CELL_COLORS)\n",
    "full_path_penta = os.path.join(output_dir, '5_pentadecathlon.gif')\n",
    "create_gif(game_penta, renderer, total_steps, full_path_penta)\n",
    "print(\"Pentadecathlon simulation concluded!\")"
   ]
  }
 ],
 "metadata": {
  "kernelspec": {
   "display_name": "venv",
   "language": "python",
   "name": "python3"
  },
  "language_info": {
   "codemirror_mode": {
    "name": "ipython",
    "version": 3
   },
   "file_extension": ".py",
   "mimetype": "text/x-python",
   "name": "python",
   "nbconvert_exporter": "python",
   "pygments_lexer": "ipython3",
   "version": "3.13.3"
  }
 },
 "nbformat": 4,
 "nbformat_minor": 5
}
