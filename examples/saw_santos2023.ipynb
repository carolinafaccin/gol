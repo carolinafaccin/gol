{
 "cells": [
  {
   "cell_type": "markdown",
   "id": "3b1418f7",
   "metadata": {},
   "source": [
    "# SAW - Game of Life by Santos\n",
    "\n",
    "Implementation of Game of Life in Python, as developed by Santos (2023)\n",
    "\n",
    "[Article on Medium](https://c137santos.medium.com/a-implementa%C3%A7%C3%A3o-do-game-of-life-em-python-3c2da1536957)\n",
    "\n",
    "[Repo on GitHub](https://github.com/c137santos/saw)"
   ]
  },
  {
   "cell_type": "markdown",
   "id": "5b1e14e6",
   "metadata": {},
   "source": [
    "### Step 1: Import libraries"
   ]
  },
  {
   "cell_type": "code",
   "execution_count": 1,
   "id": "0c02e436",
   "metadata": {},
   "outputs": [],
   "source": [
    "import os\n",
    "import time\n",
    "from math import floor\n",
    "from random import random"
   ]
  },
  {
   "cell_type": "markdown",
   "id": "6f8d7bdd",
   "metadata": {},
   "source": [
    "### Step 2: Define class Game()"
   ]
  },
  {
   "cell_type": "code",
   "execution_count": 2,
   "id": "a71299cd",
   "metadata": {},
   "outputs": [],
   "source": [
    "class Game():  \n",
    "\tdef __init__(self, linhas, colunas, vivos) -> None:  \n",
    "\t\tself.linhas = linhas  \n",
    "\t\tself.colunas = colunas  \n",
    "\t\tself.celulas = [False if random() > (vivos/100) else True for _ in range(linhas * colunas)]\n",
    "\n",
    "\t\tfor _ in range(linhas * colunas):\n",
    "    \t\t\tif random() > (vivos/100):  \n",
    "      \t\t\t\tcelula = True  \n",
    "    \t\t\telse:  \n",
    "      \t\t\t\tcelula = False\n",
    "\n",
    "\tdef __repr__(self) -> str:  \n",
    "\t\tgridizinho = ''  \n",
    "\t\tfor x in range(self.linhas):  \n",
    "\t\t\tfor y in range(self.colunas):   \n",
    "\t\t\t\tgridizinho += '#' if self.celulas[x * self.colunas + y] else '.'  \n",
    "\t\t\t\tgridizinho +=' ' # isso é śo um espaço  \n",
    "\t\t\tgridizinho +='\\n'  \n",
    "\t\treturn gridizinho\n",
    "\n",
    "\tdef update(self) -> list:  \n",
    "\t\tnew_grid = [x for x in self.celulas]  \n",
    "\t\tfor pos, val in enumerate(self.celulas):  \n",
    "\t\t\talive_n = self.__alive_nbs(pos)  \n",
    "\t\t\tif val:  \n",
    "\t\t\t\tif alive_n < 2 or alive_n > 3:  \n",
    "\t\t\t\t\tnew_grid[pos] = False  \n",
    "\t\t\telse:  \n",
    "\t\t\t\tif alive_n == 3:  \n",
    "\t\t\t\t\tnew_grid[pos] = True  \n",
    "\t\t\tself.celulas = new_grid\n",
    "\n",
    "\tdef __alive_nbs(self, pos):  \n",
    "\t\tpar_ordenado = self.__into_to_coord(pos)  \n",
    "\t\tcount = 0  \n",
    "\t\tvizinhos = []  \n",
    "\t\tfor linha in range(par_ordenado[0]-1, par_ordenado[0]+2):  \n",
    "\t\t\tfor coluna in range(par_ordenado[1]-1, par_ordenado[1]+2):  \n",
    "\t\t\t\tif linha < 0 or linha >= self.linhas or coluna >= self.colunas or coluna < 0:  \n",
    "\t\t\t\t\tcontinue  \n",
    "\t\t\t\tif (linha, coluna) == par_ordenado:  \n",
    "\t\t\t\t\tcontinue  \n",
    "\t\t\t\tvizinhos.append((linha, coluna))  \n",
    "\t\tr = []  \n",
    "\t\tfor v in vizinhos:  \n",
    "\t\t\tr.append(v[0] *self.colunas +v[1])  \n",
    "\t\tfor p in r:  \n",
    "\t\t\tif self.celulas[p]:  \n",
    "\t\t\t\tcount += 1  \n",
    "\t\treturn count\n",
    "\n",
    "\tdef __into_to_coord(self, pos):  \n",
    "\t\tx = floor(pos/self.colunas)  \n",
    "\t\ty = pos % self.colunas  \n",
    "\t\treturn x, y"
   ]
  },
  {
   "cell_type": "markdown",
   "id": "fe9069e6",
   "metadata": {},
   "source": [
    "### Step 3: Run Game of Life"
   ]
  },
  {
   "cell_type": "code",
   "execution_count": 3,
   "id": "4e0167e1",
   "metadata": {},
   "outputs": [
    {
     "name": "stdout",
     "output_type": "stream",
     "text": [
      "# # \n",
      "# # \n",
      "\n",
      "\u001b[H\u001b[2J# # \n",
      "# # \n",
      "\n",
      "\u001b[H\u001b[2J# # \n",
      "# # \n",
      "\n",
      "\u001b[H\u001b[2J# # \n",
      "# # \n",
      "\n",
      "\u001b[H\u001b[2J# # \n",
      "# # \n",
      "\n",
      "\u001b[H\u001b[2J# # \n",
      "# # \n",
      "\n"
     ]
    },
    {
     "ename": "KeyboardInterrupt",
     "evalue": "",
     "output_type": "error",
     "traceback": [
      "\u001b[31m---------------------------------------------------------------------------\u001b[39m",
      "\u001b[31mKeyboardInterrupt\u001b[39m                         Traceback (most recent call last)",
      "\u001b[36mCell\u001b[39m\u001b[36m \u001b[39m\u001b[32mIn[3]\u001b[39m\u001b[32m, line 14\u001b[39m\n\u001b[32m     12\u001b[39m \u001b[38;5;28mprint\u001b[39m(grid)  \n\u001b[32m     13\u001b[39m grid.update()  \n\u001b[32m---> \u001b[39m\u001b[32m14\u001b[39m \u001b[43mtime\u001b[49m\u001b[43m.\u001b[49m\u001b[43msleep\u001b[49m\u001b[43m(\u001b[49m\u001b[32;43m0.5\u001b[39;49m\u001b[43m)\u001b[49m  \n\u001b[32m     15\u001b[39m os.system(\u001b[33m'\u001b[39m\u001b[33mclear\u001b[39m\u001b[33m'\u001b[39m)\n",
      "\u001b[31mKeyboardInterrupt\u001b[39m: "
     ]
    }
   ],
   "source": [
    "if __name__ ==  '__main__':  \n",
    "    matriz_size = int((input('Qual será o tamaho da Matriz? Se por número quebrado eu vou arrendodar. To logo avisando! Sugestão 0 - 100: ')))  \n",
    "    alives = 0  \n",
    "    while True:  \n",
    "        alives = int((input('Quantos percentos de vivos você deseja? 0 - 100. Vai: ')))  \n",
    "        if (alives > 100) or (alives < 0):  \n",
    "            print(\"Precisa ser de ZERO a CEM. Para de bagunçar o jogo! Vai: \")  \n",
    "        else:  \n",
    "            break  \n",
    "    grid = Game(matriz_size, matriz_size, alives)  \n",
    "    while True:  \n",
    "        print(grid)  \n",
    "        grid.update()  \n",
    "        time.sleep(0.5)  \n",
    "        os.system('clear')"
   ]
  }
 ],
 "metadata": {
  "kernelspec": {
   "display_name": "venv",
   "language": "python",
   "name": "python3"
  },
  "language_info": {
   "codemirror_mode": {
    "name": "ipython",
    "version": 3
   },
   "file_extension": ".py",
   "mimetype": "text/x-python",
   "name": "python",
   "nbconvert_exporter": "python",
   "pygments_lexer": "ipython3",
   "version": "3.13.3"
  }
 },
 "nbformat": 4,
 "nbformat_minor": 5
}
